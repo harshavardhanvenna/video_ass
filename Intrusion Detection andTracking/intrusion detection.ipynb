{
 "cells": [
  {
   "cell_type": "markdown",
   "metadata": {},
   "source": [
    "## Intrusion Detection and Tracking\n",
    "#### Using your laptop/desktop webcam, create a video that contains the background for the first few seconds followed by your entry in the video.\n",
    "#### Using this generated video, generate foreground (in the form of a B/W image) by\n",
    "#### implementing:\n",
    "#### a) Intrusion detection using a single background frame as a reference.\n",
    "#### b) Intrusion detection using unimodal background modelling.\n",
    "#### c) Now implement the Background model update to the above part."
   ]
  },
  {
   "cell_type": "markdown",
   "metadata": {},
   "source": [
    "## Importing Libraries"
   ]
  },
  {
   "cell_type": "code",
   "execution_count": 2,
   "metadata": {},
   "outputs": [],
   "source": [
    "import cv2\n",
    "import numpy as np"
   ]
  },
  {
   "cell_type": "markdown",
   "metadata": {},
   "source": [
    "## Intrusion detection using a single background frame as a reference"
   ]
  },
  {
   "cell_type": "code",
   "execution_count": 3,
   "metadata": {},
   "outputs": [],
   "source": [
    "# reading the data from an already existing video\n",
    "cap = cv2.VideoCapture('vid1.mp4')\n",
    "cap.set(cv2.CAP_PROP_POS_FRAMES,20)\n",
    "\n",
    "# reading the first frame to get details about the object\n",
    "success,first_frame = cap.read()\n",
    "first_frame = cv2.cvtColor(first_frame, cv2.COLOR_BGR2GRAY)\n",
    "\n",
    "# reading the next frame in video \n",
    "true,frame = cap.read()\n",
    "while true:\n",
    "    gray_1 = cv2.cvtColor(frame, cv2.COLOR_BGR2GRAY)\n",
    "    gray = cv2.GaussianBlur(gray_1, (21, 21), 0)\n",
    "    delta_frame = cv2.absdiff(first_frame, gray)\n",
    "    thresh_delta = cv2.threshold(delta_frame, 30, 255, cv2.THRESH_BINARY)[1]\n",
    "    thresh_delta = cv2.dilate(thresh_delta, None, iterations=0)\n",
    "\n",
    "    # showing the masked background\n",
    "    # the original output of absolute difference between back_ground_reference frame and next frame\n",
    "    cv2.imshow('abs_diff' , delta_frame)\n",
    "    \n",
    "    # showing the original frame with object detected\n",
    "    cv2.imshow('result', thresh_delta)\n",
    "\n",
    "    # time-gap for image to get removed from output screen\n",
    "    k = cv2.waitKey(50)\n",
    "    if k == 27:\n",
    "        break\n",
    "\n",
    "    true,frame = cap.read()\n",
    "    \n",
    "cv2.destroyAllWindows()"
   ]
  },
  {
   "cell_type": "markdown",
   "metadata": {},
   "source": [
    "## Intrusion detection using unimodal background modelling."
   ]
  },
  {
   "cell_type": "code",
   "execution_count": 4,
   "metadata": {},
   "outputs": [],
   "source": [
    "import numpy as np\n",
    "import cv2\n",
    "\n",
    "# reading the data from an already existing video\n",
    "cap = cv2.VideoCapture('vid1.mp4')\n",
    "\n",
    "# instantiating an unimodal Backgroungsubtraction object from opencv    \n",
    "fgbg = cv2.createBackgroundSubtractorMOG2(detectShadows=True)\n",
    "\n",
    "# running an infinite loop to show processd frame in video format\n",
    "while True:\n",
    "    ret, frame = cap.read()\n",
    "    if ret == False:\n",
    "        break\n",
    "    # applying the background subtractor to frame\n",
    "    fgmask = fgbg.apply(frame)\n",
    "\n",
    "    # showing the processed frame\n",
    "    cv2.imshow('frame',fgmask)\n",
    "    k = cv2.waitKey(30) & 0xff\n",
    "    if k == 27:\n",
    "        break\n",
    "\n",
    "cap.release()\n",
    "cv2.destroyAllWindows()"
   ]
  },
  {
   "cell_type": "code",
   "execution_count": null,
   "metadata": {},
   "outputs": [],
   "source": []
  }
 ],
 "metadata": {
  "kernelspec": {
   "display_name": "Python 3",
   "language": "python",
   "name": "python3"
  },
  "language_info": {
   "codemirror_mode": {
    "name": "ipython",
    "version": 3
   },
   "file_extension": ".py",
   "mimetype": "text/x-python",
   "name": "python",
   "nbconvert_exporter": "python",
   "pygments_lexer": "ipython3",
   "version": "3.7.6"
  }
 },
 "nbformat": 4,
 "nbformat_minor": 5
}
