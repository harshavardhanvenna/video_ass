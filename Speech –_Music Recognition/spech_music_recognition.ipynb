{
 "cells": [
  {
   "cell_type": "markdown",
   "metadata": {},
   "source": [
    "# Speech – Music Recognition\n",
    "Use GTZAN music genre dataset for classifying the song genre. **Train a RNN** that takes a\n",
    "**song as an input** and **predicts the corresponding genre for the song**. For implementation\n",
    "purposes, you can just use **a specific time duration of the song as input** (Eg: Just the first\n",
    "10-20 seconds of each song). The dataset has a total of 10 classes, you may train for **any\n",
    "5 or all the classes** using **90% of available data for training and rest for the test dataset**."
   ]
  },
  {
   "cell_type": "code",
   "execution_count": 1,
   "metadata": {},
   "outputs": [
    {
     "name": "stdout",
     "output_type": "stream",
     "text": [
      "Requirement already satisfied: librosa in /Applications/anaconda/anaconda3/lib/python3.7/site-packages (0.8.0)\n",
      "Requirement already satisfied: resampy>=0.2.2 in /Applications/anaconda/anaconda3/lib/python3.7/site-packages (from librosa) (0.2.2)\n",
      "Requirement already satisfied: soundfile>=0.9.0 in /Applications/anaconda/anaconda3/lib/python3.7/site-packages (from librosa) (0.10.3.post1)\n",
      "Requirement already satisfied: numba>=0.43.0 in /Applications/anaconda/anaconda3/lib/python3.7/site-packages (from librosa) (0.48.0)\n",
      "Requirement already satisfied: scipy>=1.0.0 in /Applications/anaconda/anaconda3/lib/python3.7/site-packages (from librosa) (1.4.1)\n",
      "Requirement already satisfied: scikit-learn!=0.19.0,>=0.14.0 in /Applications/anaconda/anaconda3/lib/python3.7/site-packages (from librosa) (0.22.1)\n",
      "Requirement already satisfied: audioread>=2.0.0 in /Applications/anaconda/anaconda3/lib/python3.7/site-packages (from librosa) (2.1.9)\n",
      "Requirement already satisfied: pooch>=1.0 in /Applications/anaconda/anaconda3/lib/python3.7/site-packages (from librosa) (1.3.0)\n",
      "Requirement already satisfied: decorator>=3.0.0 in /Applications/anaconda/anaconda3/lib/python3.7/site-packages (from librosa) (4.4.1)\n",
      "Requirement already satisfied: joblib>=0.14 in /Applications/anaconda/anaconda3/lib/python3.7/site-packages (from librosa) (0.14.1)\n",
      "Requirement already satisfied: numpy>=1.15.0 in /Applications/anaconda/anaconda3/lib/python3.7/site-packages (from librosa) (1.19.5)\n",
      "Requirement already satisfied: six>=1.3 in /Applications/anaconda/anaconda3/lib/python3.7/site-packages (from resampy>=0.2.2->librosa) (1.15.0)\n",
      "Requirement already satisfied: cffi>=1.0 in /Applications/anaconda/anaconda3/lib/python3.7/site-packages (from soundfile>=0.9.0->librosa) (1.14.0)\n",
      "Requirement already satisfied: llvmlite<0.32.0,>=0.31.0dev0 in /Applications/anaconda/anaconda3/lib/python3.7/site-packages (from numba>=0.43.0->librosa) (0.31.0)\n",
      "Requirement already satisfied: setuptools in /Applications/anaconda/anaconda3/lib/python3.7/site-packages (from numba>=0.43.0->librosa) (46.0.0.post20200309)\n",
      "Requirement already satisfied: requests in /Applications/anaconda/anaconda3/lib/python3.7/site-packages (from pooch>=1.0->librosa) (2.22.0)\n",
      "Requirement already satisfied: appdirs in /Applications/anaconda/anaconda3/lib/python3.7/site-packages (from pooch>=1.0->librosa) (1.4.4)\n",
      "Requirement already satisfied: packaging in /Applications/anaconda/anaconda3/lib/python3.7/site-packages (from pooch>=1.0->librosa) (20.1)\n",
      "Requirement already satisfied: pycparser in /Applications/anaconda/anaconda3/lib/python3.7/site-packages (from cffi>=1.0->soundfile>=0.9.0->librosa) (2.19)\n",
      "Requirement already satisfied: chardet<3.1.0,>=3.0.2 in /Applications/anaconda/anaconda3/lib/python3.7/site-packages (from requests->pooch>=1.0->librosa) (3.0.4)\n",
      "Requirement already satisfied: idna<2.9,>=2.5 in /Applications/anaconda/anaconda3/lib/python3.7/site-packages (from requests->pooch>=1.0->librosa) (2.8)\n",
      "Requirement already satisfied: certifi>=2017.4.17 in /Applications/anaconda/anaconda3/lib/python3.7/site-packages (from requests->pooch>=1.0->librosa) (2019.11.28)\n",
      "Requirement already satisfied: urllib3!=1.25.0,!=1.25.1,<1.26,>=1.21.1 in /Applications/anaconda/anaconda3/lib/python3.7/site-packages (from requests->pooch>=1.0->librosa) (1.25.8)\n",
      "Requirement already satisfied: pyparsing>=2.0.2 in /Applications/anaconda/anaconda3/lib/python3.7/site-packages (from packaging->pooch>=1.0->librosa) (2.4.6)\n"
     ]
    }
   ],
   "source": [
    "!pip install librosa"
   ]
  },
  {
   "cell_type": "markdown",
   "metadata": {},
   "source": [
    "## importing libraries "
   ]
  },
  {
   "cell_type": "code",
   "execution_count": 1,
   "metadata": {},
   "outputs": [],
   "source": [
    "# python libraries for data manipulation and math\n",
    "import os\n",
    "import numpy as np\n",
    "import matplotlib.pyplot as plt\n",
    "\n",
    "# python library for understanding music(\".wav\" files) \n",
    "import librosa , librosa.display\n",
    "\n",
    "# python library for providing dataset(train and test sets)\n",
    "from sklearn.preprocessing import StandardScaler,MinMaxScaler \n",
    "from sklearn.model_selection import train_test_split\n",
    "\n",
    "# python libraries for creating and training RNN\n",
    "import tensorflow as tf\n",
    "from tensorflow.keras.models import Sequential\n",
    "from tensorflow.keras.callbacks import ModelCheckpoint\n",
    "from tensorflow.keras.layers import Dense, Dropout, LSTM, BatchNormalization,Flatten"
   ]
  },
  {
   "cell_type": "markdown",
   "metadata": {},
   "source": [
    "## visualizing a single input music data(or \".wav\" file)"
   ]
  },
  {
   "cell_type": "code",
   "execution_count": 2,
   "metadata": {},
   "outputs": [
    {
     "data": {
      "image/png": "[encoded data removed]",
      "text/plain": [
       "<Figure size 432x288 with 1 Axes>"
      ]
     },
     "metadata": {
      "needs_background": "light"
     },
     "output_type": "display_data"
    }
   ],
   "source": [
    "# Displaying the audio file data in form of a graph with y-axis = amplitude and x-axis = time  \n",
    "file = 'data/genres_original/blues/blues.00000.wav'\n",
    "Signal , sr = librosa.load(file , offset=10.0, duration=10) \n",
    "librosa.display.waveplot(Signal , sr = sr)\n",
    "plt.xlabel('Time')\n",
    "plt.ylabel('Amplitude')\n",
    "plt.show()"
   ]
  },
  {
   "cell_type": "markdown",
   "metadata": {},
   "source": [
    "## Feature Extraction"
   ]
  },
  {
   "cell_type": "code",
   "execution_count": 3,
   "metadata": {},
   "outputs": [
    {
     "name": "stdout",
     "output_type": "stream",
     "text": [
      "Extracting the features of music files from 'data/genres_original\\blues' and creating class 'blues' denoted as '0'\n",
      "Extracting the features of music files from 'data/genres_original\\classical' and creating class 'classical' denoted as '1'\n",
      "Extracting the features of music files from 'data/genres_original\\country' and creating class 'country' denoted as '2'\n",
      "Extracting the features of music files from 'data/genres_original\\disco' and creating class 'disco' denoted as '3'\n",
      "Extracting the features of music files from 'data/genres_original\\hiphop' and creating class 'hiphop' denoted as '4'\n"
     ]
    }
   ],
   "source": [
    "n_fft = 2048 # the window\n",
    "hop_length = 512 # the amount of shifting the window to the right\n",
    "num_mfcc = 40 # Mel-frequency cepstral coefficients \n",
    "dataset_path = \"data/genres_original\"\n",
    "scaler = MinMaxScaler() #StandardScaler()\n",
    "features = []\n",
    "labels = []\n",
    "for i, (dirpath, dirnames, filenames) in enumerate(os.walk(dataset_path)):\n",
    "    if i==0:\n",
    "        continue\n",
    "    #  As per the given instructions, considering train data for any 5 classes\n",
    "    if i<6:\n",
    "        class_n = dirpath.split('\\\\')[-1]\n",
    "        print(f\"Extracting the features of music files from '{dirpath}' and creating class '{class_n}' denoted as '{i-1}'\")\n",
    "        for file in filenames:\n",
    "            temp = []\n",
    "            # As per the given instructions, only a specific time duration of the song as input is considered(i.e. start at 10 sec end at 20 sec) \n",
    "            Signal , sr = librosa.load(f\"{dirpath}\\{file}\" , offset=10.0, duration=10)\n",
    "            #print(Signal.shape)\n",
    "            mfcc = librosa.feature.mfcc(Signal, sr, n_mfcc=num_mfcc, n_fft=n_fft, hop_length=hop_length)\n",
    "            mfcc = mfcc.T\n",
    "            for col in range(mfcc.shape[-1]):\n",
    "                mean_value = (mfcc[:,col]).mean()\n",
    "                temp.append(mean_value)\n",
    "            \n",
    "            np.array(temp)\n",
    "            features.append(temp)\n",
    "            labels.append(i-1)"
   ]
  },
  {
   "cell_type": "markdown",
   "metadata": {},
   "source": [
    "## Using the extracted features to create train and test datasets"
   ]
  },
  {
   "cell_type": "code",
   "execution_count": 6,
   "metadata": {},
   "outputs": [
    {
     "data": {
      "text/plain": [
       "(500, 40, 1)"
      ]
     },
     "execution_count": 6,
     "metadata": {},
     "output_type": "execute_result"
    }
   ],
   "source": [
    "# reshaping the features \n",
    "features = np.array(features)\n",
    "features = features.reshape(features.shape[0],features.shape[1],1)\n",
    "features.shape"
   ]
  },
  {
   "cell_type": "code",
   "execution_count": 7,
   "metadata": {},
   "outputs": [
    {
     "data": {
      "text/plain": [
       "(500,)"
      ]
     },
     "execution_count": 7,
     "metadata": {},
     "output_type": "execute_result"
    }
   ],
   "source": [
    "labels = np.array(labels)\n",
    "labels.shape"
   ]
  },
  {
   "cell_type": "code",
   "execution_count": 8,
   "metadata": {},
   "outputs": [],
   "source": [
    "# As per the given instructions, splitting 90% of available data for training and rest for the test dataset\n",
    "X_train,X_test,y_train,y_test = train_test_split(features,labels,test_size=0.1,random_state=1)"
   ]
  },
  {
   "cell_type": "code",
   "execution_count": 22,
   "metadata": {},
   "outputs": [
    {
     "data": {
      "text/plain": [
       "(50, 40, 1)"
      ]
     },
     "execution_count": 22,
     "metadata": {},
     "output_type": "execute_result"
    }
   ],
   "source": [
    "X_test.shape"
   ]
  },
  {
   "cell_type": "markdown",
   "metadata": {},
   "source": [
    "## Instantiating a RNN(Recursive Neural Network) model   "
   ]
  },
  {
   "cell_type": "code",
   "execution_count": 13,
   "metadata": {},
   "outputs": [],
   "source": [
    "model = Sequential()\n",
    "# Long Short-Term Memory layer\n",
    "model.add(LSTM(64, input_shape=(X_train.shape[1:]), return_sequences=True))\n",
    "model.add(Dropout(0.2))\n",
    "model.add(BatchNormalization())\n",
    "\n",
    "model.add(LSTM(64, return_sequences=True))\n",
    "model.add(Dropout(0.1))\n",
    "model.add(BatchNormalization())\n",
    "\n",
    "model.add(LSTM(32))\n",
    "model.add(Dropout(0.2))\n",
    "model.add(BatchNormalization())\n",
    "\n",
    "model.add(Dense(16, activation='relu'))\n",
    "model.add(Dropout(0.2))\n",
    "\n",
    "model.add(Dense(5, activation='softmax'))\n",
    "\n",
    "\n",
    "opt = tf.keras.optimizers.Adam(lr=0.001, decay=1e-6)\n",
    "\n",
    "# Compile model\n",
    "model.compile(\n",
    "    loss='sparse_categorical_crossentropy',\n",
    "    optimizer=opt,\n",
    "    metrics=['accuracy'])"
   ]
  },
  {
   "cell_type": "code",
   "execution_count": 14,
   "metadata": {},
   "outputs": [
    {
     "name": "stdout",
     "output_type": "stream",
     "text": [
      "Model: \"sequential_1\"\n",
      "_________________________________________________________________\n",
      "Layer (type)                 Output Shape              Param #   \n",
      "=================================================================\n",
      "lstm_3 (LSTM)                (None, 40, 64)            16896     \n",
      "_________________________________________________________________\n",
      "dropout_1 (Dropout)          (None, 40, 64)            0         \n",
      "_________________________________________________________________\n",
      "batch_normalization (BatchNo (None, 40, 64)            256       \n",
      "_________________________________________________________________\n",
      "lstm_4 (LSTM)                (None, 40, 64)            33024     \n",
      "_________________________________________________________________\n",
      "dropout_2 (Dropout)          (None, 40, 64)            0         \n",
      "_________________________________________________________________\n",
      "batch_normalization_1 (Batch (None, 40, 64)            256       \n",
      "_________________________________________________________________\n",
      "lstm_5 (LSTM)                (None, 32)                12416     \n",
      "_________________________________________________________________\n",
      "dropout_3 (Dropout)          (None, 32)                0         \n",
      "_________________________________________________________________\n",
      "batch_normalization_2 (Batch (None, 32)                128       \n",
      "_________________________________________________________________\n",
      "dense_2 (Dense)              (None, 16)                528       \n",
      "_________________________________________________________________\n",
      "dropout_4 (Dropout)          (None, 16)                0         \n",
      "_________________________________________________________________\n",
      "dense_3 (Dense)              (None, 5)                 85        \n",
      "=================================================================\n",
      "Total params: 63,589\n",
      "Trainable params: 63,269\n",
      "Non-trainable params: 320\n",
      "_________________________________________________________________\n"
     ]
    }
   ],
   "source": [
    "model.summary()"
   ]
  },
  {
   "cell_type": "markdown",
   "metadata": {},
   "source": [
    "## Training the RNN model"
   ]
  },
  {
   "cell_type": "code",
   "execution_count": 15,
   "metadata": {},
   "outputs": [
    {
     "name": "stdout",
     "output_type": "stream",
     "text": [
      "Epoch 1/100\n",
      "13/13 [==============================] - 8s 153ms/step - loss: 1.7865 - accuracy: 0.2847 - val_loss: 1.5971 - val_accuracy: 0.1778\n",
      "Epoch 2/100\n",
      "13/13 [==============================] - 1s 43ms/step - loss: 1.6280 - accuracy: 0.2771 - val_loss: 1.5953 - val_accuracy: 0.2000\n",
      "Epoch 3/100\n",
      "13/13 [==============================] - 1s 43ms/step - loss: 1.4551 - accuracy: 0.3937 - val_loss: 1.5647 - val_accuracy: 0.2889\n",
      "Epoch 4/100\n",
      "13/13 [==============================] - 1s 43ms/step - loss: 1.4974 - accuracy: 0.3306 - val_loss: 1.5543 - val_accuracy: 0.3556\n",
      "Epoch 5/100\n",
      "13/13 [==============================] - 1s 43ms/step - loss: 1.4209 - accuracy: 0.3959 - val_loss: 1.5307 - val_accuracy: 0.3556\n",
      "Epoch 6/100\n",
      "13/13 [==============================] - 1s 43ms/step - loss: 1.4198 - accuracy: 0.4135 - val_loss: 1.5266 - val_accuracy: 0.3556\n",
      "Epoch 7/100\n",
      "13/13 [==============================] - 1s 45ms/step - loss: 1.3729 - accuracy: 0.4102 - val_loss: 1.4856 - val_accuracy: 0.4222\n",
      "Epoch 8/100\n",
      "13/13 [==============================] - 1s 43ms/step - loss: 1.3882 - accuracy: 0.4116 - val_loss: 1.4724 - val_accuracy: 0.4000\n",
      "Epoch 9/100\n",
      "13/13 [==============================] - 1s 44ms/step - loss: 1.3870 - accuracy: 0.3805 - val_loss: 1.4384 - val_accuracy: 0.4222\n",
      "Epoch 10/100\n",
      "13/13 [==============================] - 1s 44ms/step - loss: 1.2776 - accuracy: 0.4367 - val_loss: 1.3759 - val_accuracy: 0.4667\n",
      "Epoch 11/100\n",
      "13/13 [==============================] - 1s 45ms/step - loss: 1.2919 - accuracy: 0.4306 - val_loss: 1.3213 - val_accuracy: 0.4444\n",
      "Epoch 12/100\n",
      "13/13 [==============================] - 1s 44ms/step - loss: 1.2256 - accuracy: 0.4981 - val_loss: 1.3277 - val_accuracy: 0.4667\n",
      "Epoch 13/100\n",
      "13/13 [==============================] - 1s 44ms/step - loss: 1.1633 - accuracy: 0.5048 - val_loss: 1.3140 - val_accuracy: 0.4667\n",
      "Epoch 14/100\n",
      "13/13 [==============================] - 1s 43ms/step - loss: 1.2317 - accuracy: 0.4975 - val_loss: 1.3254 - val_accuracy: 0.5111\n",
      "Epoch 15/100\n",
      "13/13 [==============================] - 1s 43ms/step - loss: 1.1748 - accuracy: 0.5308 - val_loss: 1.2194 - val_accuracy: 0.4889\n",
      "Epoch 16/100\n",
      "13/13 [==============================] - 1s 44ms/step - loss: 1.0932 - accuracy: 0.5558 - val_loss: 1.1817 - val_accuracy: 0.5556\n",
      "Epoch 17/100\n",
      "13/13 [==============================] - 1s 43ms/step - loss: 1.1961 - accuracy: 0.4994 - val_loss: 1.1775 - val_accuracy: 0.5333\n",
      "Epoch 18/100\n",
      "13/13 [==============================] - 1s 44ms/step - loss: 1.0994 - accuracy: 0.5497 - val_loss: 1.1631 - val_accuracy: 0.5111\n",
      "Epoch 19/100\n",
      "13/13 [==============================] - 1s 44ms/step - loss: 1.0660 - accuracy: 0.5404 - val_loss: 1.0973 - val_accuracy: 0.5778\n",
      "Epoch 20/100\n",
      "13/13 [==============================] - 1s 43ms/step - loss: 1.1145 - accuracy: 0.5481 - val_loss: 1.1245 - val_accuracy: 0.6444\n",
      "Epoch 21/100\n",
      "13/13 [==============================] - 1s 43ms/step - loss: 1.0833 - accuracy: 0.5607 - val_loss: 1.1569 - val_accuracy: 0.5111\n",
      "Epoch 22/100\n",
      "13/13 [==============================] - 1s 43ms/step - loss: 0.9682 - accuracy: 0.6057 - val_loss: 1.1585 - val_accuracy: 0.4667\n",
      "Epoch 23/100\n",
      "13/13 [==============================] - 1s 43ms/step - loss: 1.0777 - accuracy: 0.5897 - val_loss: 1.2210 - val_accuracy: 0.4889\n",
      "Epoch 24/100\n",
      "13/13 [==============================] - 1s 44ms/step - loss: 0.9260 - accuracy: 0.6305 - val_loss: 1.2407 - val_accuracy: 0.4667\n",
      "Epoch 25/100\n",
      "13/13 [==============================] - 1s 44ms/step - loss: 0.9919 - accuracy: 0.5794 - val_loss: 1.0776 - val_accuracy: 0.5778\n",
      "Epoch 26/100\n",
      "13/13 [==============================] - 1s 43ms/step - loss: 0.9792 - accuracy: 0.5806 - val_loss: 1.1076 - val_accuracy: 0.4667\n",
      "Epoch 27/100\n",
      "13/13 [==============================] - 1s 44ms/step - loss: 1.0439 - accuracy: 0.5672 - val_loss: 1.4269 - val_accuracy: 0.4667\n",
      "Epoch 28/100\n",
      "13/13 [==============================] - 1s 43ms/step - loss: 1.0233 - accuracy: 0.5980 - val_loss: 1.1265 - val_accuracy: 0.5111\n",
      "Epoch 29/100\n",
      "13/13 [==============================] - 1s 44ms/step - loss: 0.9194 - accuracy: 0.6101 - val_loss: 1.1551 - val_accuracy: 0.5556\n",
      "Epoch 30/100\n",
      "13/13 [==============================] - 1s 44ms/step - loss: 0.8953 - accuracy: 0.6158 - val_loss: 1.1248 - val_accuracy: 0.4889\n",
      "Epoch 31/100\n",
      "13/13 [==============================] - 1s 43ms/step - loss: 0.8833 - accuracy: 0.6000 - val_loss: 1.2899 - val_accuracy: 0.4667\n",
      "Epoch 32/100\n",
      "13/13 [==============================] - 1s 43ms/step - loss: 0.9349 - accuracy: 0.6009 - val_loss: 1.1134 - val_accuracy: 0.5333\n",
      "Epoch 33/100\n",
      "13/13 [==============================] - 1s 43ms/step - loss: 0.8919 - accuracy: 0.6522 - val_loss: 1.3168 - val_accuracy: 0.4444\n",
      "Epoch 34/100\n",
      "13/13 [==============================] - 1s 44ms/step - loss: 0.8808 - accuracy: 0.6317 - val_loss: 1.1503 - val_accuracy: 0.4000\n",
      "Epoch 35/100\n",
      "13/13 [==============================] - 1s 43ms/step - loss: 0.9272 - accuracy: 0.6235 - val_loss: 1.2061 - val_accuracy: 0.4889\n",
      "Epoch 36/100\n",
      "13/13 [==============================] - 1s 45ms/step - loss: 0.8928 - accuracy: 0.6157 - val_loss: 1.3846 - val_accuracy: 0.5333\n",
      "Epoch 37/100\n",
      "13/13 [==============================] - 1s 43ms/step - loss: 0.8731 - accuracy: 0.6396 - val_loss: 1.1831 - val_accuracy: 0.5333\n",
      "Epoch 38/100\n",
      "13/13 [==============================] - 1s 43ms/step - loss: 0.7617 - accuracy: 0.7021 - val_loss: 1.3008 - val_accuracy: 0.4444\n",
      "Epoch 39/100\n",
      "13/13 [==============================] - 1s 47ms/step - loss: 0.8330 - accuracy: 0.6407 - val_loss: 1.2420 - val_accuracy: 0.6000\n",
      "Epoch 40/100\n",
      "13/13 [==============================] - 1s 46ms/step - loss: 0.7716 - accuracy: 0.6980 - val_loss: 1.2135 - val_accuracy: 0.5333\n",
      "Epoch 41/100\n",
      "13/13 [==============================] - 1s 44ms/step - loss: 0.7604 - accuracy: 0.6641 - val_loss: 1.2778 - val_accuracy: 0.4444\n",
      "Epoch 42/100\n",
      "13/13 [==============================] - 1s 45ms/step - loss: 0.7117 - accuracy: 0.7147 - val_loss: 1.5194 - val_accuracy: 0.3778\n",
      "Epoch 43/100\n",
      "13/13 [==============================] - 1s 45ms/step - loss: 0.7720 - accuracy: 0.6811 - val_loss: 1.2674 - val_accuracy: 0.4889\n",
      "Epoch 44/100\n",
      "13/13 [==============================] - 1s 46ms/step - loss: 0.7574 - accuracy: 0.7238 - val_loss: 1.3873 - val_accuracy: 0.4667\n",
      "Epoch 45/100\n",
      "13/13 [==============================] - 1s 47ms/step - loss: 0.8283 - accuracy: 0.6655 - val_loss: 1.2519 - val_accuracy: 0.6222\n",
      "Epoch 46/100\n",
      "13/13 [==============================] - 1s 47ms/step - loss: 0.8101 - accuracy: 0.6703 - val_loss: 1.3107 - val_accuracy: 0.5333\n",
      "Epoch 47/100\n",
      "13/13 [==============================] - 1s 47ms/step - loss: 0.7154 - accuracy: 0.7297 - val_loss: 1.3639 - val_accuracy: 0.5111\n",
      "Epoch 48/100\n",
      "13/13 [==============================] - 1s 43ms/step - loss: 0.6647 - accuracy: 0.7463 - val_loss: 1.1734 - val_accuracy: 0.7111\n",
      "Epoch 49/100\n",
      "13/13 [==============================] - 1s 43ms/step - loss: 0.6502 - accuracy: 0.7348 - val_loss: 1.4804 - val_accuracy: 0.5111\n",
      "Epoch 50/100\n",
      "13/13 [==============================] - 1s 43ms/step - loss: 0.7575 - accuracy: 0.6658 - val_loss: 1.1928 - val_accuracy: 0.5111\n",
      "Epoch 51/100\n",
      "13/13 [==============================] - 1s 44ms/step - loss: 0.6926 - accuracy: 0.6995 - val_loss: 1.5242 - val_accuracy: 0.5111\n",
      "Epoch 52/100\n",
      "13/13 [==============================] - 1s 43ms/step - loss: 0.6702 - accuracy: 0.7393 - val_loss: 1.6163 - val_accuracy: 0.4444\n",
      "Epoch 53/100\n",
      "13/13 [==============================] - 1s 45ms/step - loss: 0.6732 - accuracy: 0.7203 - val_loss: 1.4219 - val_accuracy: 0.5111\n",
      "Epoch 54/100\n",
      "13/13 [==============================] - 1s 43ms/step - loss: 0.6938 - accuracy: 0.6929 - val_loss: 1.2955 - val_accuracy: 0.6000\n",
      "Epoch 55/100\n",
      "13/13 [==============================] - 1s 43ms/step - loss: 0.7051 - accuracy: 0.7140 - val_loss: 1.4010 - val_accuracy: 0.5778\n",
      "Epoch 56/100\n",
      "13/13 [==============================] - 1s 44ms/step - loss: 0.6261 - accuracy: 0.7684 - val_loss: 1.6683 - val_accuracy: 0.5556\n",
      "Epoch 57/100\n",
      "13/13 [==============================] - 1s 44ms/step - loss: 0.7160 - accuracy: 0.7016 - val_loss: 1.5410 - val_accuracy: 0.4667\n",
      "Epoch 58/100\n",
      "13/13 [==============================] - 1s 44ms/step - loss: 0.6062 - accuracy: 0.7443 - val_loss: 1.3024 - val_accuracy: 0.4889\n",
      "Epoch 59/100\n",
      "13/13 [==============================] - 1s 44ms/step - loss: 0.5638 - accuracy: 0.7952 - val_loss: 1.4056 - val_accuracy: 0.4889\n",
      "Epoch 60/100\n",
      "13/13 [==============================] - 1s 43ms/step - loss: 0.6519 - accuracy: 0.7403 - val_loss: 1.4613 - val_accuracy: 0.5556\n",
      "Epoch 61/100\n",
      "13/13 [==============================] - 1s 44ms/step - loss: 0.6364 - accuracy: 0.7389 - val_loss: 1.2530 - val_accuracy: 0.6000\n",
      "Epoch 62/100\n",
      "13/13 [==============================] - 1s 44ms/step - loss: 0.5945 - accuracy: 0.7739 - val_loss: 1.2535 - val_accuracy: 0.6000\n",
      "Epoch 63/100\n",
      "13/13 [==============================] - 1s 43ms/step - loss: 0.5539 - accuracy: 0.8151 - val_loss: 1.5415 - val_accuracy: 0.4444\n",
      "Epoch 64/100\n",
      "13/13 [==============================] - 1s 43ms/step - loss: 0.5079 - accuracy: 0.8184 - val_loss: 1.2284 - val_accuracy: 0.6222\n",
      "Epoch 65/100\n",
      "13/13 [==============================] - 1s 44ms/step - loss: 0.5002 - accuracy: 0.7790 - val_loss: 1.6027 - val_accuracy: 0.5778\n",
      "Epoch 66/100\n",
      "13/13 [==============================] - 1s 44ms/step - loss: 0.5402 - accuracy: 0.7849 - val_loss: 1.2932 - val_accuracy: 0.6444\n",
      "Epoch 67/100\n",
      "13/13 [==============================] - 1s 44ms/step - loss: 0.5036 - accuracy: 0.7931 - val_loss: 1.6392 - val_accuracy: 0.4889\n",
      "Epoch 68/100\n",
      "13/13 [==============================] - 1s 44ms/step - loss: 0.5129 - accuracy: 0.8020 - val_loss: 1.7565 - val_accuracy: 0.5556\n",
      "Epoch 69/100\n",
      "13/13 [==============================] - 1s 44ms/step - loss: 0.5183 - accuracy: 0.8075 - val_loss: 1.6746 - val_accuracy: 0.5556\n",
      "Epoch 70/100\n",
      "13/13 [==============================] - 1s 44ms/step - loss: 0.4779 - accuracy: 0.8090 - val_loss: 1.7829 - val_accuracy: 0.5778\n",
      "Epoch 71/100\n",
      "13/13 [==============================] - 1s 46ms/step - loss: 0.4418 - accuracy: 0.8371 - val_loss: 1.9835 - val_accuracy: 0.6000\n",
      "Epoch 72/100\n",
      "13/13 [==============================] - 1s 46ms/step - loss: 0.7700 - accuracy: 0.7737 - val_loss: 1.3329 - val_accuracy: 0.6000\n",
      "Epoch 73/100\n",
      "13/13 [==============================] - 1s 46ms/step - loss: 0.5318 - accuracy: 0.8099 - val_loss: 1.4516 - val_accuracy: 0.6222\n",
      "Epoch 74/100\n",
      "13/13 [==============================] - 1s 45ms/step - loss: 0.4369 - accuracy: 0.8561 - val_loss: 1.2449 - val_accuracy: 0.6000\n",
      "Epoch 75/100\n",
      "13/13 [==============================] - 1s 46ms/step - loss: 0.4588 - accuracy: 0.8203 - val_loss: 1.2794 - val_accuracy: 0.6444\n",
      "Epoch 76/100\n",
      "13/13 [==============================] - 1s 46ms/step - loss: 0.3960 - accuracy: 0.8661 - val_loss: 1.5526 - val_accuracy: 0.5778\n",
      "Epoch 77/100\n",
      "13/13 [==============================] - 1s 46ms/step - loss: 0.3973 - accuracy: 0.8752 - val_loss: 1.3434 - val_accuracy: 0.6889\n",
      "Epoch 78/100\n",
      "13/13 [==============================] - 1s 45ms/step - loss: 0.4734 - accuracy: 0.8226 - val_loss: 1.6603 - val_accuracy: 0.6222\n",
      "Epoch 79/100\n",
      "13/13 [==============================] - 1s 45ms/step - loss: 0.4794 - accuracy: 0.8142 - val_loss: 1.1887 - val_accuracy: 0.6889\n",
      "Epoch 80/100\n",
      "13/13 [==============================] - 1s 45ms/step - loss: 0.4325 - accuracy: 0.8123 - val_loss: 1.4120 - val_accuracy: 0.6222\n",
      "Epoch 81/100\n",
      "13/13 [==============================] - 1s 47ms/step - loss: 0.5059 - accuracy: 0.8222 - val_loss: 1.4887 - val_accuracy: 0.6000\n",
      "Epoch 82/100\n",
      "13/13 [==============================] - 1s 48ms/step - loss: 0.5076 - accuracy: 0.7980 - val_loss: 1.3588 - val_accuracy: 0.4889\n",
      "Epoch 83/100\n",
      "13/13 [==============================] - 1s 44ms/step - loss: 0.4875 - accuracy: 0.8019 - val_loss: 1.4666 - val_accuracy: 0.6000\n",
      "Epoch 84/100\n",
      "13/13 [==============================] - 1s 45ms/step - loss: 0.3820 - accuracy: 0.8591 - val_loss: 1.6149 - val_accuracy: 0.5556\n",
      "Epoch 85/100\n",
      "13/13 [==============================] - 1s 45ms/step - loss: 0.4878 - accuracy: 0.8386 - val_loss: 1.4734 - val_accuracy: 0.6000\n",
      "Epoch 86/100\n",
      "13/13 [==============================] - 1s 49ms/step - loss: 0.4439 - accuracy: 0.8391 - val_loss: 1.4696 - val_accuracy: 0.5556\n",
      "Epoch 87/100\n",
      "13/13 [==============================] - 1s 46ms/step - loss: 0.4187 - accuracy: 0.8497 - val_loss: 1.4706 - val_accuracy: 0.6222\n",
      "Epoch 88/100\n",
      "13/13 [==============================] - 1s 46ms/step - loss: 0.3579 - accuracy: 0.8527 - val_loss: 1.4945 - val_accuracy: 0.6000\n",
      "Epoch 89/100\n",
      "13/13 [==============================] - 1s 46ms/step - loss: 0.3533 - accuracy: 0.8847 - val_loss: 1.6238 - val_accuracy: 0.6444\n",
      "Epoch 90/100\n",
      "13/13 [==============================] - 1s 45ms/step - loss: 0.3152 - accuracy: 0.8959 - val_loss: 1.6579 - val_accuracy: 0.6222\n",
      "Epoch 91/100\n",
      "13/13 [==============================] - 1s 44ms/step - loss: 0.2877 - accuracy: 0.8934 - val_loss: 1.6317 - val_accuracy: 0.6667\n",
      "Epoch 92/100\n",
      "13/13 [==============================] - 1s 44ms/step - loss: 0.3183 - accuracy: 0.8906 - val_loss: 1.6995 - val_accuracy: 0.6000\n",
      "Epoch 93/100\n",
      "13/13 [==============================] - 1s 46ms/step - loss: 0.3797 - accuracy: 0.8851 - val_loss: 2.4026 - val_accuracy: 0.5111\n",
      "Epoch 94/100\n",
      "13/13 [==============================] - 1s 44ms/step - loss: 0.4377 - accuracy: 0.8453 - val_loss: 1.3400 - val_accuracy: 0.6222\n",
      "Epoch 95/100\n",
      "13/13 [==============================] - 1s 45ms/step - loss: 0.4387 - accuracy: 0.8271 - val_loss: 1.6423 - val_accuracy: 0.5778\n",
      "Epoch 96/100\n",
      "13/13 [==============================] - 1s 46ms/step - loss: 0.4133 - accuracy: 0.8273 - val_loss: 1.7167 - val_accuracy: 0.5778\n",
      "Epoch 97/100\n",
      "13/13 [==============================] - 1s 46ms/step - loss: 0.4083 - accuracy: 0.8329 - val_loss: 1.4262 - val_accuracy: 0.6444\n",
      "Epoch 98/100\n",
      "13/13 [==============================] - 1s 46ms/step - loss: 0.3519 - accuracy: 0.8775 - val_loss: 1.2052 - val_accuracy: 0.6889\n",
      "Epoch 99/100\n",
      "13/13 [==============================] - 1s 47ms/step - loss: 0.3215 - accuracy: 0.8854 - val_loss: 1.7216 - val_accuracy: 0.5556\n",
      "Epoch 100/100\n",
      "13/13 [==============================] - 1s 45ms/step - loss: 0.3230 - accuracy: 0.8984 - val_loss: 1.5937 - val_accuracy: 0.6889\n"
     ]
    }
   ],
   "source": [
    "#callback = tf.keras.callbacks.EarlyStopping()\n",
    "history = model.fit(X_train,y_train, epochs = 100, batch_size = 32,validation_split = 0.1)#,callbacks=[callback])"
   ]
  },
  {
   "cell_type": "markdown",
   "metadata": {},
   "source": [
    "## Visualizing the performance of the RNN model"
   ]
  },
  {
   "cell_type": "code",
   "execution_count": 18,
   "metadata": {},
   "outputs": [
    {
     "data": {
      "image/png": "[encoded data removed]",
      "text/plain": [
       "<Figure size 432x288 with 2 Axes>"
      ]
     },
     "metadata": {
      "needs_background": "light"
     },
     "output_type": "display_data"
    }
   ],
   "source": [
    "def plot_history(history):\n",
    "    fig,axs = plt.subplots(2)\n",
    "    axs[0].plot(history.history[\"accuracy\"],label=\"train accuracy\")\n",
    "    axs[0].plot(history.history[\"val_accuracy\"],label=\"validation accuracy\")\n",
    "    axs[0].set_ylabel(\"Accuracy\")\n",
    "    axs[0].legend(loc='lower right')\n",
    "    axs[0].set_title(\"Accuracy eval\")\n",
    "    \n",
    "    axs[1].plot(history.history[\"loss\"],label=\"train error\")\n",
    "    axs[1].plot(history.history[\"val_loss\"],label=\"validation error\")\n",
    "    axs[1].set_ylabel(\"Error\")\n",
    "    axs[1].set_xlabel(\"Epoch\")\n",
    "    axs[1].legend(loc='upper right')\n",
    "    plt.show()\n",
    "\n",
    "plot_history(history)"
   ]
  },
  {
   "cell_type": "markdown",
   "metadata": {},
   "source": [
    "## Evaluating the RNN model Using the test data"
   ]
  },
  {
   "cell_type": "code",
   "execution_count": 24,
   "metadata": {},
   "outputs": [
    {
     "name": "stdout",
     "output_type": "stream",
     "text": [
      "2/2 [==============================] - 0s 13ms/step - loss: 0.9785 - accuracy: 0.6800\n"
     ]
    }
   ],
   "source": [
    "res = model.evaluate(X_test,y_test)"
   ]
  },
  {
   "cell_type": "code",
   "execution_count": 27,
   "metadata": {},
   "outputs": [
    {
     "name": "stdout",
     "output_type": "stream",
     "text": [
      "accuracy of RNN Model is : 68.00000071525574%\n"
     ]
    }
   ],
   "source": [
    "print(f\"accuracy of RNN Model is : {res[1]*100}%\")"
   ]
  }
 ],
 "metadata": {
  "kernelspec": {
   "display_name": "Python 3",
   "language": "python",
   "name": "python3"
  },
  "language_info": {
   "codemirror_mode": {
    "name": "ipython",
    "version": 3
   },
   "file_extension": ".py",
   "mimetype": "text/x-python",
   "name": "python",
   "nbconvert_exporter": "python",
   "pygments_lexer": "ipython3",
   "version": "3.7.6"
  }
 },
 "nbformat": 4,
 "nbformat_minor": 5
}
